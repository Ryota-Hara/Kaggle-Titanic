{
 "cells": [
  {
   "cell_type": "code",
   "execution_count": 1,
   "metadata": {
    "ExecuteTime": {
     "end_time": "2018-10-30T03:11:34.321698Z",
     "start_time": "2018-10-30T03:11:33.511636Z"
    }
   },
   "outputs": [],
   "source": [
    "import pandas as pd\n",
    "import matplotlib.pyplot as plt\n",
    "import re\n",
    "import sys\n",
    "import numpy as np"
   ]
  },
  {
   "cell_type": "code",
   "execution_count": 2,
   "metadata": {
    "ExecuteTime": {
     "end_time": "2018-10-30T03:11:34.357602Z",
     "start_time": "2018-10-30T03:11:34.323693Z"
    }
   },
   "outputs": [],
   "source": [
    "train_ori = pd.read_csv('train.csv')\n",
    "train =  train_ori.copy()"
   ]
  },
  {
   "cell_type": "code",
   "execution_count": 3,
   "metadata": {
    "ExecuteTime": {
     "end_time": "2018-10-30T03:11:34.372562Z",
     "start_time": "2018-10-30T03:11:34.360595Z"
    }
   },
   "outputs": [],
   "source": [
    "test_ori = pd.read_csv('test.csv')\n",
    "test = test_ori.copy()"
   ]
  },
  {
   "cell_type": "code",
   "execution_count": 4,
   "metadata": {
    "ExecuteTime": {
     "end_time": "2018-10-30T03:11:37.282264Z",
     "start_time": "2018-10-30T03:11:34.376557Z"
    }
   },
   "outputs": [],
   "source": [
    "import re\n",
    "\n",
    "for id in train['PassengerId']:\n",
    "    train.loc[train['PassengerId'] == id , 'Name_type'] = re.split('[,.]',train[train['PassengerId'] == id]['Name'].iloc[0].strip())[1]"
   ]
  },
  {
   "cell_type": "code",
   "execution_count": 5,
   "metadata": {
    "ExecuteTime": {
     "end_time": "2018-10-30T03:11:38.527192Z",
     "start_time": "2018-10-30T03:11:37.284032Z"
    }
   },
   "outputs": [],
   "source": [
    "for id in test['PassengerId']:\n",
    "    test.loc[test['PassengerId'] == id , 'Name_type'] = re.split('[,.]',test[test['PassengerId'] == id]['Name'].iloc[0].strip())[1]"
   ]
  },
  {
   "cell_type": "code",
   "execution_count": 6,
   "metadata": {
    "ExecuteTime": {
     "end_time": "2018-10-30T03:11:38.603753Z",
     "start_time": "2018-10-30T03:11:38.528954Z"
    }
   },
   "outputs": [],
   "source": [
    "train.loc[train['Name_type']==' Mr','Name_type_num'] = 0\n",
    "train.loc[train['Name_type']==' Ms','Name_type_num'] = 1\n",
    "train.loc[train['Name_type']==' Mrs','Name_type_num'] = 2\n",
    "train.loc[train['Name_type']==' Miss','Name_type_num'] = 3\n",
    "train.loc[train['Name_type']==' Master','Name_type_num'] = 4\n",
    "train.loc[train['Name_type']==' Don','Name_type_num'] = 5\n",
    "train.loc[train['Name_type']==' Dona','Name_type_num'] = 6\n",
    "train.loc[train['Name_type']==' Rev','Name_type_num'] = 7\n",
    "train.loc[train['Name_type']==' Dr','Name_type_num'] = 8\n",
    "train.loc[train['Name_type']==' Mme','Name_type_num'] = 9\n",
    "train.loc[train['Name_type']==' Major','Name_type_num'] = 10\n",
    "train.loc[train['Name_type']==' Lady','Name_type_num'] = 11\n",
    "train.loc[train['Name_type']==' Sir','Name_type_num'] = 12\n",
    "train.loc[train['Name_type']==' Mlle','Name_type_num'] = 13\n",
    "train.loc[train['Name_type']==' Col','Name_type_num'] = 14\n",
    "train.loc[train['Name_type']==' Capt','Name_type_num'] = 15\n",
    "train.loc[train['Name_type']==' the Countess','Name_type_num'] = 16\n",
    "train.loc[train['Name_type']==' Jonkheer','Name_type_num'] = 17"
   ]
  },
  {
   "cell_type": "code",
   "execution_count": 7,
   "metadata": {
    "ExecuteTime": {
     "end_time": "2018-10-30T03:11:38.677741Z",
     "start_time": "2018-10-30T03:11:38.605748Z"
    }
   },
   "outputs": [],
   "source": [
    "test.loc[test['Name_type']==' Mr','Name_type_num'] = 0\n",
    "test.loc[test['Name_type']==' Ms','Name_type_num'] = 1\n",
    "test.loc[test['Name_type']==' Mrs','Name_type_num'] = 2\n",
    "test.loc[test['Name_type']==' Miss','Name_type_num'] = 3\n",
    "test.loc[test['Name_type']==' Master','Name_type_num'] = 4\n",
    "test.loc[test['Name_type']==' Don','Name_type_num'] = 5\n",
    "test.loc[test['Name_type']==' Dona','Name_type_num'] = 6\n",
    "test.loc[test['Name_type']==' Rev','Name_type_num'] = 7\n",
    "test.loc[test['Name_type']==' Dr','Name_type_num'] = 8\n",
    "test.loc[test['Name_type']==' Mme','Name_type_num'] = 9\n",
    "test.loc[test['Name_type']==' Major','Name_type_num'] = 10\n",
    "test.loc[test['Name_type']==' Lady','Name_type_num'] = 11\n",
    "test.loc[test['Name_type']==' Sir','Name_type_num'] = 12\n",
    "test.loc[test['Name_type']==' Mlle','Name_type_num'] = 13\n",
    "test.loc[test['Name_type']==' Col','Name_type_num'] = 14\n",
    "test.loc[test['Name_type']==' Capt','Name_type_num'] = 15\n",
    "test.loc[test['Name_type']==' the Countess','Name_type_num'] = 16\n",
    "test.loc[test['Name_type']==' Jonkheer','Name_type_num'] = 17"
   ]
  },
  {
   "cell_type": "code",
   "execution_count": 8,
   "metadata": {
    "ExecuteTime": {
     "end_time": "2018-10-30T03:11:39.347686Z",
     "start_time": "2018-10-30T03:11:38.680567Z"
    }
   },
   "outputs": [],
   "source": [
    "for i in test.index:\n",
    "    if str(str.isdigit(test[test.index == i]['Ticket'].iloc[0])) == 'True':\n",
    "        test.loc[test.index == i, 'employee_frag'] = 0\n",
    "    else :\n",
    "        test.loc[test.index == i, 'employee_frag'] = 1\n",
    "test['employee_frag'] = test['employee_frag'].astype(int)"
   ]
  },
  {
   "cell_type": "code",
   "execution_count": 9,
   "metadata": {
    "ExecuteTime": {
     "end_time": "2018-10-30T03:11:41.193626Z",
     "start_time": "2018-10-30T03:11:39.347686Z"
    }
   },
   "outputs": [],
   "source": [
    "for i in train.index:\n",
    "    if str(str.isdigit(train[train.index == i]['Ticket'].iloc[0])) == 'True':\n",
    "        train.loc[train.index == i, 'employee_frag'] = 0\n",
    "    else :\n",
    "        train.loc[train.index == i, 'employee_frag'] = 1\n",
    "train['employee_frag'] = train['employee_frag'].astype(int)"
   ]
  },
  {
   "cell_type": "code",
   "execution_count": 10,
   "metadata": {
    "ExecuteTime": {
     "end_time": "2018-10-30T03:11:41.206406Z",
     "start_time": "2018-10-30T03:11:41.195443Z"
    }
   },
   "outputs": [
    {
     "data": {
      "text/plain": [
       "array([' Mr', ' Mrs', ' Miss', ' Master', ' Ms', ' Col', ' Rev', ' Dr',\n",
       "       ' Dona'], dtype=object)"
      ]
     },
     "execution_count": 10,
     "metadata": {},
     "output_type": "execute_result"
    }
   ],
   "source": [
    "test['Name_type'].unique()"
   ]
  },
  {
   "cell_type": "code",
   "execution_count": 11,
   "metadata": {
    "ExecuteTime": {
     "end_time": "2018-10-30T03:11:41.233333Z",
     "start_time": "2018-10-30T03:11:41.209398Z"
    }
   },
   "outputs": [],
   "source": [
    "test.loc[(test['Sex'] == 'female'), 'sex'] = 0\n",
    "test.loc[(test['Sex'] == 'male'), 'sex'] = 1"
   ]
  },
  {
   "cell_type": "code",
   "execution_count": 12,
   "metadata": {
    "ExecuteTime": {
     "end_time": "2018-10-30T03:11:41.254281Z",
     "start_time": "2018-10-30T03:11:41.235328Z"
    }
   },
   "outputs": [],
   "source": [
    "train.loc[(train['Sex'] == 'female'), 'sex'] = 0\n",
    "train.loc[(train['Sex'] == 'male'), 'sex'] = 1"
   ]
  },
  {
   "cell_type": "code",
   "execution_count": 19,
   "metadata": {
    "ExecuteTime": {
     "end_time": "2018-10-30T03:33:23.854003Z",
     "start_time": "2018-10-30T03:33:23.585807Z"
    }
   },
   "outputs": [
    {
     "name": "stderr",
     "output_type": "stream",
     "text": [
      "C:\\Users\\ryota_hara\\Anaconda3\\lib\\site-packages\\ipykernel_launcher.py:10: SettingWithCopyWarning: \n",
      "A value is trying to be set on a copy of a slice from a DataFrame\n",
      "\n",
      "See the caveats in the documentation: http://pandas.pydata.org/pandas-docs/stable/indexing.html#indexing-view-versus-copy\n",
      "  # Remove the CWD from sys.path while we load stuff.\n"
     ]
    },
    {
     "data": {
      "text/plain": [
       "Text(0,0.5,'num')"
      ]
     },
     "execution_count": 19,
     "metadata": {},
     "output_type": "execute_result"
    },
    {
     "data": {
      "image/png": "[encoded data removed]",
      "text/plain": [
       "<matplotlib.figure.Figure at 0x127503fb6d8>"
      ]
     },
     "metadata": {},
     "output_type": "display_data"
    }
   ],
   "source": [
    "#平均・標準偏差・null数を取得する\n",
    "Age_average = test[\"Age\"].mean() #平均値\n",
    "Age_std = test[\"Age\"].std()  #標準偏差\n",
    "Age_nullcount = test[\"Age\"].isnull().sum() #null値の数＝補完する数\n",
    "\n",
    "# 正規分布に従うとし、標準偏差の範囲内でランダムに数字を作る\n",
    "rand = np.random.randint(Age_average - Age_std, Age_average + Age_std , size = Age_nullcount)\n",
    "\n",
    "#Ageの欠損値\n",
    "test[\"Age\"][np.isnan(test[\"Age\"])] = rand\n",
    "\n",
    "#グラフ描画\n",
    "plt.hist(test_ori[\"Age\"].dropna(), alpha=0.2,color=\"b\")\n",
    "plt.hist(test[\"Age\"],alpha=0.2,color=\"g\")\n",
    "\n",
    "plt.title('Ave_interpolation',size=15)\n",
    "plt.xlabel('ave',size=12)\n",
    "plt.ylabel('num',size=12)"
   ]
  },
  {
   "cell_type": "code",
   "execution_count": 48,
   "metadata": {
    "ExecuteTime": {
     "end_time": "2018-10-26T08:46:35.679057Z",
     "start_time": "2018-10-26T08:46:35.396811Z"
    },
    "scrolled": true
   },
   "outputs": [
    {
     "name": "stderr",
     "output_type": "stream",
     "text": [
      "C:\\Users\\ryota_hara\\Anaconda3\\lib\\site-packages\\ipykernel_launcher.py:10: SettingWithCopyWarning: \n",
      "A value is trying to be set on a copy of a slice from a DataFrame\n",
      "\n",
      "See the caveats in the documentation: http://pandas.pydata.org/pandas-docs/stable/indexing.html#indexing-view-versus-copy\n",
      "  # Remove the CWD from sys.path while we load stuff.\n"
     ]
    },
    {
     "data": {
      "text/plain": [
       "(array([ 54.,  58., 235., 218., 160.,  86.,  45.,  24.,   9.,   2.]),\n",
       " array([ 0.42 ,  8.378, 16.336, 24.294, 32.252, 40.21 , 48.168, 56.126,\n",
       "        64.084, 72.042, 80.   ]),\n",
       " <a list of 10 Patch objects>)"
      ]
     },
     "execution_count": 48,
     "metadata": {},
     "output_type": "execute_result"
    },
    {
     "data": {
      "image/png": "[encoded data removed]",
      "text/plain": [
       "<matplotlib.figure.Figure at 0x27e336524a8>"
      ]
     },
     "metadata": {},
     "output_type": "display_data"
    }
   ],
   "source": [
    "#平均・標準偏差・null数を取得する\n",
    "Age_average = train[\"Age\"].mean() #平均値\n",
    "Age_std = train[\"Age\"].std()  #標準偏差\n",
    "Age_nullcount = train[\"Age\"].isnull().sum() #null値の数＝補完する数\n",
    "\n",
    "# 正規分布に従うとし、標準偏差の範囲内でランダムに数字を作る\n",
    "rand = np.random.randint(Age_average - Age_std, Age_average + Age_std , size = Age_nullcount)\n",
    "\n",
    "#Ageの欠損値\n",
    "train[\"Age\"][np.isnan(train[\"Age\"])] = rand\n",
    "\n",
    "#グラフ描画\n",
    "plt.hist(train_ori[\"Age\"].dropna(), alpha=0.2,color=\"r\")\n",
    "plt.hist(train[\"Age\"],alpha=0.2,color=\"b\")"
   ]
  },
  {
   "cell_type": "code",
   "execution_count": 49,
   "metadata": {
    "ExecuteTime": {
     "end_time": "2018-10-26T08:46:35.929388Z",
     "start_time": "2018-10-26T08:46:35.683044Z"
    }
   },
   "outputs": [
    {
     "name": "stderr",
     "output_type": "stream",
     "text": [
      "C:\\Users\\ryota_hara\\Anaconda3\\lib\\site-packages\\ipykernel_launcher.py:10: SettingWithCopyWarning: \n",
      "A value is trying to be set on a copy of a slice from a DataFrame\n",
      "\n",
      "See the caveats in the documentation: http://pandas.pydata.org/pandas-docs/stable/indexing.html#indexing-view-versus-copy\n",
      "  # Remove the CWD from sys.path while we load stuff.\n"
     ]
    },
    {
     "data": {
      "text/plain": [
       "(array([339.,  48.,  11.,   2.,  10.,   7.,   0.,   0.,   0.,   1.]),\n",
       " array([  0.     ,  51.23292, 102.46584, 153.69876, 204.93168, 256.1646 ,\n",
       "        307.39752, 358.63044, 409.86336, 461.09628, 512.3292 ]),\n",
       " <a list of 10 Patch objects>)"
      ]
     },
     "execution_count": 49,
     "metadata": {},
     "output_type": "execute_result"
    },
    {
     "data": {
      "image/png": "[encoded data removed]",
      "text/plain": [
       "<matplotlib.figure.Figure at 0x27e336f16a0>"
      ]
     },
     "metadata": {},
     "output_type": "display_data"
    }
   ],
   "source": [
    "#平均・標準偏差・null数を取得する\n",
    "Age_average = test[\"Fare\"].mean() #平均値\n",
    "Age_std = test[\"Fare\"].std()  #標準偏差\n",
    "Age_nullcount = test[\"Fare\"].isnull().sum() #null値の数＝補完する数\n",
    "\n",
    "# 正規分布に従うとし、標準偏差の範囲内でランダムに数字を作る\n",
    "rand = np.random.randint(Age_average - Age_std, Age_average + Age_std , size = Age_nullcount)\n",
    "\n",
    "#Ageの欠損値\n",
    "test[\"Fare\"][np.isnan(test[\"Fare\"])] = rand\n",
    "\n",
    "#グラフ描画\n",
    "plt.hist(test_ori[\"Fare\"].dropna(), alpha=0.2,color=\"r\")\n",
    "plt.hist(test[\"Fare\"],alpha=0.2,color=\"b\")"
   ]
  },
  {
   "cell_type": "code",
   "execution_count": 50,
   "metadata": {
    "ExecuteTime": {
     "end_time": "2018-10-26T08:46:35.966287Z",
     "start_time": "2018-10-26T08:46:35.932379Z"
    }
   },
   "outputs": [],
   "source": [
    "test.loc[(test['Age'] <= 5), 'age_type'] = 1\n",
    "test.loc[(test['Age'] >= 6) & (test['Age'] <= 17), 'age_type'] = 2\n",
    "test.loc[(test['Age'] >= 18) & (test['Age'] <= 29), 'age_type'] = 3\n",
    "test.loc[(test['Age'] >= 30) & (test['Age'] <= 49), 'age_type'] = 4\n",
    "test.loc[(test['Age'] >= 50) & (test['Age'] <= 64), 'age_type'] = 5\n",
    "test.loc[(test['Age'] >= 65), 'age_type'] = 6\n",
    "test.loc[(test['Age'].isnull()), 'age_type'] = 0"
   ]
  },
  {
   "cell_type": "code",
   "execution_count": 51,
   "metadata": {
    "ExecuteTime": {
     "end_time": "2018-10-26T08:46:36.011168Z",
     "start_time": "2018-10-26T08:46:35.968281Z"
    }
   },
   "outputs": [],
   "source": [
    "train.loc[(train['Age'] <= 5), 'age_type'] = 1\n",
    "train.loc[(train['Age'] >= 6) & (train['Age'] <= 17), 'age_type'] = 2\n",
    "train.loc[(train['Age'] >= 18) & (train['Age'] <= 29), 'age_type'] = 3\n",
    "train.loc[(train['Age'] >= 30) & (train['Age'] <= 49), 'age_type'] = 4\n",
    "train.loc[(train['Age'] >= 50) & (train['Age'] <= 64), 'age_type'] = 5\n",
    "train.loc[(train['Age'] >= 65), 'age_type'] = 6\n",
    "train.loc[(train['Age'].isnull()), 'age_type'] = 0"
   ]
  },
  {
   "cell_type": "markdown",
   "metadata": {},
   "source": [
    "## ランダムフォレスト"
   ]
  },
  {
   "cell_type": "code",
   "execution_count": 52,
   "metadata": {
    "ExecuteTime": {
     "end_time": "2018-10-26T08:46:36.025130Z",
     "start_time": "2018-10-26T08:46:36.014159Z"
    }
   },
   "outputs": [],
   "source": [
    "from sklearn.ensemble import RandomForestRegressor\n",
    "from sklearn.model_selection import train_test_split # 訓練データと検証データに分ける関数\n",
    "from sklearn.metrics import confusion_matrix, accuracy_score # 混同行列, 予測正解率を求める関数\n",
    "import seaborn as sns"
   ]
  },
  {
   "cell_type": "code",
   "execution_count": 53,
   "metadata": {
    "ExecuteTime": {
     "end_time": "2018-10-26T08:46:36.039092Z",
     "start_time": "2018-10-26T08:46:36.030128Z"
    }
   },
   "outputs": [],
   "source": [
    "from sklearn.ensemble import RandomForestClassifier"
   ]
  },
  {
   "cell_type": "code",
   "execution_count": 63,
   "metadata": {
    "ExecuteTime": {
     "end_time": "2018-10-26T08:47:31.336582Z",
     "start_time": "2018-10-26T08:47:29.598958Z"
    },
    "scrolled": true
   },
   "outputs": [
    {
     "name": "stdout",
     "output_type": "stream",
     "text": [
      "shape of X and y for training:  (712, 11) (712,)\n",
      "shape of X and y for testing:  (179, 11) (179,)\n"
     ]
    },
    {
     "data": {
      "text/plain": [
       "Name_type_num    0.290539\n",
       "PassengerId      0.226983\n",
       "Fare             0.185016\n",
       "Pclass           0.066777\n",
       "family_full      0.056745\n",
       "sex              0.055830\n",
       "age_type         0.050631\n",
       "Embarked_n       0.022231\n",
       "SibSp            0.019364\n",
       "employee_frag    0.015773\n",
       "Parch            0.010110\n",
       "dtype: float64"
      ]
     },
     "execution_count": 63,
     "metadata": {},
     "output_type": "execute_result"
    }
   ],
   "source": [
    "# 特徴量と目的変数に分ける\n",
    "X_train = train.drop(labels = [\"Name_type\",\"Age\",\"Sex\",\"Embarked\",\"Ticket\",\"Name\",\"Cabin\",\"Survived\"], axis = 1)\n",
    "y_train = train[\"Survived\"]\n",
    "\n",
    "X_test = test.drop(labels = [\"Age\",\"Sex\",\"Embarked\",\"Ticket\",\"Name\",\"Cabin\"], axis = 1)\n",
    "\n",
    "# 特徴量名を取り出しておく\n",
    "feature_x_train = X_train.columns\n",
    "feature_y_train = y_train.name\n",
    "\n",
    "# 学習データと評価データに分ける\n",
    "X_train_train, X_train_test, y_train_train, y_train_test = train_test_split(X_train, y_train, test_size=0.2, random_state=0) \n",
    "print(\"shape of X and y for training: \", X_train_train.shape, y_train_train.shape)\n",
    "print(\"shape of X and y for testing: \", X_train_test.shape, y_train_test.shape)\n",
    "\n",
    "reg_rf_train = RandomForestRegressor(random_state=0, n_estimators=1000)\n",
    "reg_rf_train.fit(X=X_train_train, y=y_train_train)\n",
    "\n",
    "# 変数重要度\n",
    "pd.Series(data = reg_rf_train.feature_importances_, \n",
    "          index = feature_x_train).sort_values(ascending = False)"
   ]
  },
  {
   "cell_type": "code",
   "execution_count": 41,
   "metadata": {
    "ExecuteTime": {
     "end_time": "2018-10-26T03:59:11.217178Z",
     "start_time": "2018-10-26T03:59:11.208173Z"
    }
   },
   "outputs": [
    {
     "data": {
      "text/plain": [
       "PassengerId      0\n",
       "Pclass           0\n",
       "SibSp            0\n",
       "Parch            0\n",
       "Fare             0\n",
       "employee_frag    0\n",
       "sex              0\n",
       "age_type         0\n",
       "dtype: int64"
      ]
     },
     "execution_count": 41,
     "metadata": {},
     "output_type": "execute_result"
    }
   ],
   "source": [
    "X_test.isnull().sum()"
   ]
  },
  {
   "cell_type": "code",
   "execution_count": 90,
   "metadata": {
    "ExecuteTime": {
     "end_time": "2018-10-26T02:56:47.027739Z",
     "start_time": "2018-10-26T02:56:46.952790Z"
    },
    "scrolled": true
   },
   "outputs": [],
   "source": [
    "# 予測\n",
    "y_rf_train_pred = reg_rf_train.predict(X_test)"
   ]
  },
  {
   "cell_type": "code",
   "execution_count": 91,
   "metadata": {
    "ExecuteTime": {
     "end_time": "2018-10-26T02:56:52.312108Z",
     "start_time": "2018-10-26T02:56:52.293122Z"
    },
    "scrolled": true
   },
   "outputs": [
    {
     "data": {
      "text/html": [
       "<div>\n",
       "<style scoped>\n",
       "    .dataframe tbody tr th:only-of-type {\n",
       "        vertical-align: middle;\n",
       "    }\n",
       "\n",
       "    .dataframe tbody tr th {\n",
       "        vertical-align: top;\n",
       "    }\n",
       "\n",
       "    .dataframe thead th {\n",
       "        text-align: right;\n",
       "    }\n",
       "</style>\n",
       "<table border=\"1\" class=\"dataframe\">\n",
       "  <thead>\n",
       "    <tr style=\"text-align: right;\">\n",
       "      <th></th>\n",
       "      <th>0</th>\n",
       "    </tr>\n",
       "  </thead>\n",
       "  <tbody>\n",
       "    <tr>\n",
       "      <th>0</th>\n",
       "      <td>0.104</td>\n",
       "    </tr>\n",
       "    <tr>\n",
       "      <th>1</th>\n",
       "      <td>0.546</td>\n",
       "    </tr>\n",
       "    <tr>\n",
       "      <th>2</th>\n",
       "      <td>0.067</td>\n",
       "    </tr>\n",
       "    <tr>\n",
       "      <th>3</th>\n",
       "      <td>0.106</td>\n",
       "    </tr>\n",
       "    <tr>\n",
       "      <th>4</th>\n",
       "      <td>0.400</td>\n",
       "    </tr>\n",
       "    <tr>\n",
       "      <th>5</th>\n",
       "      <td>0.089</td>\n",
       "    </tr>\n",
       "    <tr>\n",
       "      <th>6</th>\n",
       "      <td>0.439</td>\n",
       "    </tr>\n",
       "    <tr>\n",
       "      <th>7</th>\n",
       "      <td>0.257</td>\n",
       "    </tr>\n",
       "    <tr>\n",
       "      <th>8</th>\n",
       "      <td>0.719</td>\n",
       "    </tr>\n",
       "    <tr>\n",
       "      <th>9</th>\n",
       "      <td>0.095</td>\n",
       "    </tr>\n",
       "    <tr>\n",
       "      <th>10</th>\n",
       "      <td>0.041</td>\n",
       "    </tr>\n",
       "    <tr>\n",
       "      <th>11</th>\n",
       "      <td>0.445</td>\n",
       "    </tr>\n",
       "    <tr>\n",
       "      <th>12</th>\n",
       "      <td>0.961</td>\n",
       "    </tr>\n",
       "    <tr>\n",
       "      <th>13</th>\n",
       "      <td>0.155</td>\n",
       "    </tr>\n",
       "    <tr>\n",
       "      <th>14</th>\n",
       "      <td>0.961</td>\n",
       "    </tr>\n",
       "    <tr>\n",
       "      <th>15</th>\n",
       "      <td>0.880</td>\n",
       "    </tr>\n",
       "    <tr>\n",
       "      <th>16</th>\n",
       "      <td>0.066</td>\n",
       "    </tr>\n",
       "    <tr>\n",
       "      <th>17</th>\n",
       "      <td>0.093</td>\n",
       "    </tr>\n",
       "    <tr>\n",
       "      <th>18</th>\n",
       "      <td>0.154</td>\n",
       "    </tr>\n",
       "    <tr>\n",
       "      <th>19</th>\n",
       "      <td>0.577</td>\n",
       "    </tr>\n",
       "    <tr>\n",
       "      <th>20</th>\n",
       "      <td>0.418</td>\n",
       "    </tr>\n",
       "    <tr>\n",
       "      <th>21</th>\n",
       "      <td>0.293</td>\n",
       "    </tr>\n",
       "    <tr>\n",
       "      <th>22</th>\n",
       "      <td>0.959</td>\n",
       "    </tr>\n",
       "    <tr>\n",
       "      <th>23</th>\n",
       "      <td>0.406</td>\n",
       "    </tr>\n",
       "    <tr>\n",
       "      <th>24</th>\n",
       "      <td>0.955</td>\n",
       "    </tr>\n",
       "    <tr>\n",
       "      <th>25</th>\n",
       "      <td>0.155</td>\n",
       "    </tr>\n",
       "    <tr>\n",
       "      <th>26</th>\n",
       "      <td>0.969</td>\n",
       "    </tr>\n",
       "    <tr>\n",
       "      <th>27</th>\n",
       "      <td>0.093</td>\n",
       "    </tr>\n",
       "    <tr>\n",
       "      <th>28</th>\n",
       "      <td>0.663</td>\n",
       "    </tr>\n",
       "    <tr>\n",
       "      <th>29</th>\n",
       "      <td>0.080</td>\n",
       "    </tr>\n",
       "    <tr>\n",
       "      <th>...</th>\n",
       "      <td>...</td>\n",
       "    </tr>\n",
       "    <tr>\n",
       "      <th>388</th>\n",
       "      <td>0.153</td>\n",
       "    </tr>\n",
       "    <tr>\n",
       "      <th>389</th>\n",
       "      <td>0.199</td>\n",
       "    </tr>\n",
       "    <tr>\n",
       "      <th>390</th>\n",
       "      <td>0.451</td>\n",
       "    </tr>\n",
       "    <tr>\n",
       "      <th>391</th>\n",
       "      <td>0.900</td>\n",
       "    </tr>\n",
       "    <tr>\n",
       "      <th>392</th>\n",
       "      <td>0.329</td>\n",
       "    </tr>\n",
       "    <tr>\n",
       "      <th>393</th>\n",
       "      <td>0.091</td>\n",
       "    </tr>\n",
       "    <tr>\n",
       "      <th>394</th>\n",
       "      <td>0.188</td>\n",
       "    </tr>\n",
       "    <tr>\n",
       "      <th>395</th>\n",
       "      <td>0.961</td>\n",
       "    </tr>\n",
       "    <tr>\n",
       "      <th>396</th>\n",
       "      <td>0.042</td>\n",
       "    </tr>\n",
       "    <tr>\n",
       "      <th>397</th>\n",
       "      <td>0.964</td>\n",
       "    </tr>\n",
       "    <tr>\n",
       "      <th>398</th>\n",
       "      <td>0.075</td>\n",
       "    </tr>\n",
       "    <tr>\n",
       "      <th>399</th>\n",
       "      <td>0.108</td>\n",
       "    </tr>\n",
       "    <tr>\n",
       "      <th>400</th>\n",
       "      <td>0.917</td>\n",
       "    </tr>\n",
       "    <tr>\n",
       "      <th>401</th>\n",
       "      <td>0.089</td>\n",
       "    </tr>\n",
       "    <tr>\n",
       "      <th>402</th>\n",
       "      <td>0.969</td>\n",
       "    </tr>\n",
       "    <tr>\n",
       "      <th>403</th>\n",
       "      <td>0.504</td>\n",
       "    </tr>\n",
       "    <tr>\n",
       "      <th>404</th>\n",
       "      <td>0.631</td>\n",
       "    </tr>\n",
       "    <tr>\n",
       "      <th>405</th>\n",
       "      <td>0.168</td>\n",
       "    </tr>\n",
       "    <tr>\n",
       "      <th>406</th>\n",
       "      <td>0.086</td>\n",
       "    </tr>\n",
       "    <tr>\n",
       "      <th>407</th>\n",
       "      <td>0.484</td>\n",
       "    </tr>\n",
       "    <tr>\n",
       "      <th>408</th>\n",
       "      <td>0.563</td>\n",
       "    </tr>\n",
       "    <tr>\n",
       "      <th>409</th>\n",
       "      <td>0.593</td>\n",
       "    </tr>\n",
       "    <tr>\n",
       "      <th>410</th>\n",
       "      <td>0.427</td>\n",
       "    </tr>\n",
       "    <tr>\n",
       "      <th>411</th>\n",
       "      <td>0.960</td>\n",
       "    </tr>\n",
       "    <tr>\n",
       "      <th>412</th>\n",
       "      <td>0.324</td>\n",
       "    </tr>\n",
       "    <tr>\n",
       "      <th>413</th>\n",
       "      <td>0.101</td>\n",
       "    </tr>\n",
       "    <tr>\n",
       "      <th>414</th>\n",
       "      <td>0.965</td>\n",
       "    </tr>\n",
       "    <tr>\n",
       "      <th>415</th>\n",
       "      <td>0.054</td>\n",
       "    </tr>\n",
       "    <tr>\n",
       "      <th>416</th>\n",
       "      <td>0.061</td>\n",
       "    </tr>\n",
       "    <tr>\n",
       "      <th>417</th>\n",
       "      <td>0.200</td>\n",
       "    </tr>\n",
       "  </tbody>\n",
       "</table>\n",
       "<p>418 rows × 1 columns</p>\n",
       "</div>"
      ],
      "text/plain": [
       "         0\n",
       "0    0.104\n",
       "1    0.546\n",
       "2    0.067\n",
       "3    0.106\n",
       "4    0.400\n",
       "5    0.089\n",
       "6    0.439\n",
       "7    0.257\n",
       "8    0.719\n",
       "9    0.095\n",
       "10   0.041\n",
       "11   0.445\n",
       "12   0.961\n",
       "13   0.155\n",
       "14   0.961\n",
       "15   0.880\n",
       "16   0.066\n",
       "17   0.093\n",
       "18   0.154\n",
       "19   0.577\n",
       "20   0.418\n",
       "21   0.293\n",
       "22   0.959\n",
       "23   0.406\n",
       "24   0.955\n",
       "25   0.155\n",
       "26   0.969\n",
       "27   0.093\n",
       "28   0.663\n",
       "29   0.080\n",
       "..     ...\n",
       "388  0.153\n",
       "389  0.199\n",
       "390  0.451\n",
       "391  0.900\n",
       "392  0.329\n",
       "393  0.091\n",
       "394  0.188\n",
       "395  0.961\n",
       "396  0.042\n",
       "397  0.964\n",
       "398  0.075\n",
       "399  0.108\n",
       "400  0.917\n",
       "401  0.089\n",
       "402  0.969\n",
       "403  0.504\n",
       "404  0.631\n",
       "405  0.168\n",
       "406  0.086\n",
       "407  0.484\n",
       "408  0.563\n",
       "409  0.593\n",
       "410  0.427\n",
       "411  0.960\n",
       "412  0.324\n",
       "413  0.101\n",
       "414  0.965\n",
       "415  0.054\n",
       "416  0.061\n",
       "417  0.200\n",
       "\n",
       "[418 rows x 1 columns]"
      ]
     },
     "execution_count": 91,
     "metadata": {},
     "output_type": "execute_result"
    }
   ],
   "source": [
    "pd.DataFrame(y_rf_train_pred)"
   ]
  },
  {
   "cell_type": "code",
   "execution_count": 93,
   "metadata": {
    "ExecuteTime": {
     "end_time": "2018-10-26T02:57:52.122960Z",
     "start_time": "2018-10-26T02:57:52.117974Z"
    },
    "scrolled": true
   },
   "outputs": [],
   "source": [
    "output = pd.concat([test['PassengerId'],pd.DataFrame(y_rf_train_pred)],axis=1)"
   ]
  },
  {
   "cell_type": "code",
   "execution_count": 98,
   "metadata": {
    "ExecuteTime": {
     "end_time": "2018-10-26T02:59:58.144350Z",
     "start_time": "2018-10-26T02:59:58.139405Z"
    },
    "scrolled": true
   },
   "outputs": [],
   "source": [
    "output = output.rename(columns={0:'Survived_tmep'})"
   ]
  },
  {
   "cell_type": "code",
   "execution_count": 102,
   "metadata": {
    "ExecuteTime": {
     "end_time": "2018-10-26T03:00:43.209030Z",
     "start_time": "2018-10-26T03:00:43.197062Z"
    },
    "scrolled": true
   },
   "outputs": [],
   "source": []
  },
  {
   "cell_type": "markdown",
   "metadata": {},
   "source": [
    "# 予測結果をsubmissionの形に直す"
   ]
  },
  {
   "cell_type": "code",
   "execution_count": 103,
   "metadata": {
    "ExecuteTime": {
     "end_time": "2018-10-26T03:00:50.401092Z",
     "start_time": "2018-10-26T03:00:50.387161Z"
    }
   },
   "outputs": [],
   "source": [
    "output.loc[output['Survived_tmep'] >= 0.5, 'Survived'] = 1\n",
    "output.loc[output['Survived_tmep'] < 0.5, 'Survived'] = 0"
   ]
  },
  {
   "cell_type": "code",
   "execution_count": 109,
   "metadata": {
    "ExecuteTime": {
     "end_time": "2018-10-26T03:01:50.094976Z",
     "start_time": "2018-10-26T03:01:50.088992Z"
    }
   },
   "outputs": [],
   "source": [
    "output = output[['PassengerId','Survived']].astype(int)"
   ]
  },
  {
   "cell_type": "code",
   "execution_count": 111,
   "metadata": {
    "ExecuteTime": {
     "end_time": "2018-10-26T03:03:16.827172Z",
     "start_time": "2018-10-26T03:03:16.804232Z"
    }
   },
   "outputs": [],
   "source": [
    "output.to_csv('gender_submission_r1.csv')"
   ]
  },
  {
   "cell_type": "markdown",
   "metadata": {},
   "source": [
    " "
   ]
  },
  {
   "cell_type": "markdown",
   "metadata": {},
   "source": [
    "# 勾配ブースティング"
   ]
  },
  {
   "cell_type": "code",
   "execution_count": 64,
   "metadata": {
    "ExecuteTime": {
     "end_time": "2018-10-26T08:47:51.639476Z",
     "start_time": "2018-10-26T08:47:51.634493Z"
    }
   },
   "outputs": [],
   "source": [
    "import xgboost as xgb\n",
    "from sklearn.grid_search import GridSearchCV\n",
    "from sklearn.gaussian_process import GaussianProcessRegressor"
   ]
  },
  {
   "cell_type": "markdown",
   "metadata": {},
   "source": [
    "## 特徴量推定"
   ]
  },
  {
   "cell_type": "markdown",
   "metadata": {},
   "source": [
    "### RFEでの特徴量推定\n",
    "-そんなに特徴量もないから必要…かな？"
   ]
  },
  {
   "cell_type": "code",
   "execution_count": 12,
   "metadata": {
    "ExecuteTime": {
     "end_time": "2018-10-25T02:19:48.039261Z",
     "start_time": "2018-10-25T02:19:48.032143Z"
    },
    "scrolled": true
   },
   "outputs": [
    {
     "data": {
      "text/plain": [
       "'0.72'"
      ]
     },
     "execution_count": 12,
     "metadata": {},
     "output_type": "execute_result"
    }
   ],
   "source": [
    "xgb.__version__"
   ]
  },
  {
   "cell_type": "code",
   "execution_count": 65,
   "metadata": {
    "ExecuteTime": {
     "end_time": "2018-10-26T08:47:56.790029Z",
     "start_time": "2018-10-26T08:47:56.785040Z"
    }
   },
   "outputs": [],
   "source": [
    "X='X_train_train'\n",
    "y='y_train_train'"
   ]
  },
  {
   "cell_type": "code",
   "execution_count": null,
   "metadata": {},
   "outputs": [],
   "source": []
  },
  {
   "cell_type": "markdown",
   "metadata": {},
   "source": [
    "### GridSearchCVでのパラメーター推定"
   ]
  },
  {
   "cell_type": "code",
   "execution_count": 66,
   "metadata": {
    "ExecuteTime": {
     "end_time": "2018-10-26T08:48:35.553959Z",
     "start_time": "2018-10-26T08:48:03.791848Z"
    },
    "scrolled": true
   },
   "outputs": [
    {
     "name": "stderr",
     "output_type": "stream",
     "text": [
      "C:\\Users\\ryota_hara\\Anaconda3\\lib\\site-packages\\ipykernel_launcher.py:2: FutureWarning: Method .as_matrix will be removed in a future version. Use .values instead.\n",
      "  \n",
      "C:\\Users\\ryota_hara\\Anaconda3\\lib\\site-packages\\ipykernel_launcher.py:5: FutureWarning: Method .as_matrix will be removed in a future version. Use .values instead.\n",
      "  \"\"\"\n"
     ]
    },
    {
     "name": "stdout",
     "output_type": "stream",
     "text": [
      "shape of X and y for training:  (712, 11) (712,)\n",
      "shape of X and y for testing:  (179, 11) (179,)\n"
     ]
    },
    {
     "data": {
      "text/plain": [
       "Name_type_num    0.290539\n",
       "PassengerId      0.226983\n",
       "Fare             0.185016\n",
       "Pclass           0.066777\n",
       "family_full      0.056745\n",
       "sex              0.055830\n",
       "age_type         0.050631\n",
       "Embarked_n       0.022231\n",
       "SibSp            0.019364\n",
       "employee_frag    0.015773\n",
       "Parch            0.010110\n",
       "dtype: float64"
      ]
     },
     "execution_count": 66,
     "metadata": {},
     "output_type": "execute_result"
    }
   ],
   "source": [
    "df_except_y = train.drop([\"Name_type\",\"PassengerId\",\"Age\",\"Sex\",\"Embarked\",\"Ticket\",\"Name\",\"Cabin\",\"Survived\"], axis=1)\n",
    "X = df_except_y.as_matrix()\n",
    "\n",
    "# 目的変数に \"y \" を利用\n",
    "y = train['Survived'].as_matrix()\n",
    "\n",
    "params = {\"learning_rate\":[0.1,0.3,0.5],\n",
    "        \"max_depth\": [2,3,5,10],\n",
    "         \"subsample\":[0.5,0.8,0.9,1],\n",
    "         \"colsample_bytree\": [0.5,1.0],\n",
    "         }\n",
    "\n",
    "# ハイパーパラメータ探索\n",
    "mod = xgb.XGBRegressor()\n",
    "cv = GridSearchCV(mod, params, cv = 10, scoring= 'roc_auc', n_jobs =-1)\n",
    "\n",
    "#　trainデータとtestデータに分割\n",
    "X_train_train, X_train_test, y_train_train, y_train_test = train_test_split(X_train, y_train, test_size=0.2, random_state=0) \n",
    "print(\"shape of X and y for training: \", X_train_train.shape, y_train_train.shape)\n",
    "print(\"shape of X and y for testing: \", X_train_test.shape, y_train_test.shape)\n",
    "\n",
    "# 予測モデルを作成\n",
    "cv.fit(X=X_train_train, y=y_train_train)\n",
    "\n",
    "# 変数重要度\n",
    "pd.Series(data = reg_rf_train.feature_importances_, \n",
    "          index = feature_x_train).sort_values(ascending = False)"
   ]
  },
  {
   "cell_type": "code",
   "execution_count": 43,
   "metadata": {
    "ExecuteTime": {
     "end_time": "2018-10-26T04:01:47.829173Z",
     "start_time": "2018-10-26T04:01:47.819202Z"
    }
   },
   "outputs": [],
   "source": [
    "#予測    \n",
    "y_train_pred = cv.predict(X_train)\n",
    "y_test_pred = cv.predict(X_test)"
   ]
  },
  {
   "cell_type": "code",
   "execution_count": 45,
   "metadata": {
    "ExecuteTime": {
     "end_time": "2018-10-26T04:01:54.427711Z",
     "start_time": "2018-10-26T04:01:54.417740Z"
    },
    "scrolled": true
   },
   "outputs": [
    {
     "data": {
      "text/plain": [
       "array([0.24916297, 0.74552613, 0.31168646, 0.26871604, 0.67430186,\n",
       "       0.44472557, 0.7416446 , 0.35251558, 0.752619  , 0.1727305 ,\n",
       "       0.24916297, 0.42651552, 1.1198907 , 0.34875607, 1.0764167 ,\n",
       "       0.97027886, 0.2812817 , 0.23661932, 0.65914047, 0.7416446 ,\n",
       "       0.521379  , 0.38932523, 1.0549687 , 0.5177478 , 1.0760174 ,\n",
       "       0.29063588, 1.12193   , 0.23661932, 0.48161328, 0.23843312,\n",
       "       0.33334273, 0.27420354, 0.6374069 , 0.598219  , 0.5321545 ,\n",
       "       0.23661932, 0.6694288 , 0.65976983, 0.26871604, 0.39899534,\n",
       "       0.29026824, 0.58293796, 0.23374963, 0.9827669 , 1.2119488 ,\n",
       "       0.2629617 , 0.46619996, 0.26013738, 1.1255611 , 0.64799803,\n",
       "       0.5200254 , 0.30196285, 0.9599606 , 1.0465473 , 0.29098845,\n",
       "       0.179907  , 0.24916297, 0.26013738, 0.28806898, 1.1286901 ,\n",
       "       0.43614697, 0.30640176, 0.26013738, 0.7761371 , 0.6775476 ,\n",
       "       0.9740534 , 0.73304856, 0.43571463, 0.48161328, 0.9515619 ,\n",
       "       0.7761371 , 0.26013738, 0.685145  , 0.47257283, 1.0980542 ,\n",
       "       0.5092855 , 0.278375  , 1.1029584 , 0.30640176, 0.7761371 ,\n",
       "       0.4916634 , 0.5140827 , 0.42651552, 0.24916297, 0.46301594,\n",
       "       0.27039474, 0.73304856, 0.6540155 , 0.7761371 , 0.97724044,\n",
       "       0.65442836, 0.26013738, 1.0007805 , 0.26740056, 0.43748993,\n",
       "       0.26013738, 1.0867962 , 0.2629617 , 0.73304856, 0.25198725,\n",
       "       1.2119488 , 0.324076  , 0.26013738, 0.26013738, 0.76669466,\n",
       "       0.27265564, 0.26013738, 0.26013738, 0.26871604, 0.3173762 ,\n",
       "       0.30640176, 0.73304856, 1.0549687 , 0.752619  , 1.1055539 ,\n",
       "       0.28136918, 0.21547848, 1.0187057 , 0.5136525 , 0.97443664,\n",
       "       1.0970817 , 0.24916297, 1.1103321 , 0.23661932, 0.26013738,\n",
       "       0.8036466 , 0.26013738, 0.6113653 , 0.30640176, 0.278375  ,\n",
       "       0.25198725, 0.51184905, 0.44268754, 0.20450407, 0.24916297,\n",
       "       0.26013738, 0.23661932, 0.3173762 , 0.6540155 , 0.04411387,\n",
       "       0.27823013, 1.0390735 , 0.548551  , 0.324076  , 0.5765651 ,\n",
       "       0.08195627, 0.43571463, 0.2629617 , 0.5765651 , 0.3329751 ,\n",
       "       1.1436176 , 0.24916297, 0.3074354 , 0.6567116 , 0.20328146,\n",
       "       0.22120598, 1.0746027 , 0.73304856, 0.5765651 , 0.6522727 ,\n",
       "       0.7761371 , 0.4916634 , 0.9937414 , 0.24011761, 0.30640176,\n",
       "       0.68100166, 0.42030132, 0.1923149 , 1.0703821 , 0.65976983,\n",
       "       0.39059258, 0.23661932, 0.28136918, 0.23661932, 0.10542586,\n",
       "       1.0954108 , 0.97201484, 0.65691084, 0.9769841 , 1.1277642 ,\n",
       "       0.30640176, 0.5330626 , 1.2183216 , 0.26013738, 1.0771474 ,\n",
       "       0.31310156, 1.0049012 , 0.38920847, 0.3147347 , 0.30640176,\n",
       "       0.31310156, 0.42651552, 0.47625005, 0.31693625, 0.54293627,\n",
       "       0.24916297, 0.75225616, 0.73304856, 0.27159303, 0.6694288 ,\n",
       "       0.65404516, 0.9608151 , 0.49387217, 1.1217774 , 0.27159303,\n",
       "       0.42207658, 0.76516265, 0.28700638, 1.0549687 , 0.26013738,\n",
       "       0.26168123, 0.19688737, 0.54642636, 1.01453   , 0.59125704,\n",
       "       0.43571463, 0.73304856, 0.5559255 , 1.1341031 , 0.26740056,\n",
       "       0.9567624 , 0.278375  , 0.9553616 , 0.26013738, 1.0852045 ,\n",
       "       0.667686  , 0.26013738, 0.76516265, 0.25498143, 0.30640176,\n",
       "       0.5618397 , 1.1717069 , 0.21547848, 0.26013738, 0.49823916,\n",
       "       0.26013738, 0.53679234, 0.23661932, 1.0030236 , 1.0981044 ,\n",
       "       1.1006179 , 0.98583925, 0.58240247, 0.26013738, 0.23139244,\n",
       "       0.43571463, 0.9850278 , 0.3461427 , 0.9898499 , 0.64345396,\n",
       "       1.2930439 , 0.2629617 , 0.5409131 , 0.26871604, 0.2577416 ,\n",
       "       0.21023154, 0.23374963, 0.278375  , 0.9937414 , 0.26013738,\n",
       "       0.27709454, 0.26013738, 1.0031075 , 1.0274193 , 0.2732718 ,\n",
       "       0.24916297, 0.32967806, 0.39059258, 0.643041  , 0.44472557,\n",
       "       0.5136525 , 0.26013738, 1.1190908 , 0.7664821 , 0.23661932,\n",
       "       0.9898499 , 0.27159303, 0.31310156, 0.29768822, 0.27159303,\n",
       "       0.65976983, 0.9454017 , 0.7761371 , 0.7863556 , 1.0341191 ,\n",
       "       0.21023154, 0.22120598, 0.54171294, 0.23661932, 0.25198725,\n",
       "       0.4539634 , 0.7205037 , 0.22564489, 0.5716157 , 0.2577416 ,\n",
       "       0.26013738, 1.2143822 , 0.23843312, 0.43571463, 0.26013738,\n",
       "       0.24916297, 0.30640176, 0.3175617 , 0.26871604, 0.7761371 ,\n",
       "       1.1981144 , 0.4634405 , 0.8827604 , 0.5716157 , 0.64345396,\n",
       "       0.26871604, 0.23661932, 0.21023154, 0.76516265, 1.1558108 ,\n",
       "       0.85836625, 0.56704205, 0.28700638, 0.26013738, 0.27420354,\n",
       "       0.26013738, 0.23661932, 0.3173762 , 0.5765651 , 1.0980542 ,\n",
       "       0.20786178, 1.0522637 , 0.49823916, 0.324076  , 0.3173762 ,\n",
       "       0.96157074, 0.46619996, 0.40600592, 0.68100166, 0.26013738,\n",
       "       0.42651552, 0.30640176, 0.24551833, 0.3239664 , 0.22564489,\n",
       "       0.27159303, 0.22564489, 0.12842456, 1.3519874 , 0.2858293 ,\n",
       "       0.87377954, 0.3173762 , 0.7416446 , 0.3173762 , 0.9740534 ,\n",
       "       1.1001438 , 0.27159303, 0.35600567, 0.3781819 , 1.0014987 ,\n",
       "       0.4567512 , 1.092696  , 0.24916297, 0.26013738, 0.64345396,\n",
       "       0.21990731, 0.9745594 , 0.9740534 , 0.26871604, 1.2183216 ,\n",
       "       0.43039066, 0.28136918, 0.5715007 , 1.1155572 , 0.30196285,\n",
       "       0.29225615, 1.1580356 , 0.3187036 , 0.30640176, 1.1497934 ,\n",
       "       1.1286901 , 0.5994157 , 0.29225615, 0.46595037, 0.5079479 ,\n",
       "       0.26013738, 0.26013738, 0.65404516, 0.6611282 , 0.2842462 ,\n",
       "       1.0136601 , 0.26013738, 0.34205627, 0.26013738, 0.22150323,\n",
       "       0.54171294, 1.089485  , 0.4829499 , 0.26061863, 0.10170275,\n",
       "       1.098203  , 0.23661932, 1.1049659 , 0.26013738, 0.24916297,\n",
       "       1.0980542 , 0.31310156, 1.12193   , 0.61997926, 0.48161328,\n",
       "       0.30196285, 0.28700638, 0.5559255 , 0.7761371 , 1.0120059 ,\n",
       "       0.7761371 , 1.1135178 , 0.73304856, 0.43897122, 1.1086955 ,\n",
       "       0.21023154, 0.278375  , 0.30794248], dtype=float32)"
      ]
     },
     "execution_count": 45,
     "metadata": {},
     "output_type": "execute_result"
    }
   ],
   "source": [
    "y_test_pred"
   ]
  },
  {
   "cell_type": "code",
   "execution_count": 46,
   "metadata": {
    "ExecuteTime": {
     "end_time": "2018-10-26T04:03:28.828239Z",
     "start_time": "2018-10-26T04:03:28.802265Z"
    },
    "scrolled": true
   },
   "outputs": [
    {
     "data": {
      "text/html": [
       "<div>\n",
       "<style scoped>\n",
       "    .dataframe tbody tr th:only-of-type {\n",
       "        vertical-align: middle;\n",
       "    }\n",
       "\n",
       "    .dataframe tbody tr th {\n",
       "        vertical-align: top;\n",
       "    }\n",
       "\n",
       "    .dataframe thead th {\n",
       "        text-align: right;\n",
       "    }\n",
       "</style>\n",
       "<table border=\"1\" class=\"dataframe\">\n",
       "  <thead>\n",
       "    <tr style=\"text-align: right;\">\n",
       "      <th></th>\n",
       "      <th>0</th>\n",
       "    </tr>\n",
       "  </thead>\n",
       "  <tbody>\n",
       "    <tr>\n",
       "      <th>0</th>\n",
       "      <td>0.249163</td>\n",
       "    </tr>\n",
       "    <tr>\n",
       "      <th>1</th>\n",
       "      <td>0.745526</td>\n",
       "    </tr>\n",
       "    <tr>\n",
       "      <th>2</th>\n",
       "      <td>0.311686</td>\n",
       "    </tr>\n",
       "    <tr>\n",
       "      <th>3</th>\n",
       "      <td>0.268716</td>\n",
       "    </tr>\n",
       "    <tr>\n",
       "      <th>4</th>\n",
       "      <td>0.674302</td>\n",
       "    </tr>\n",
       "    <tr>\n",
       "      <th>5</th>\n",
       "      <td>0.444726</td>\n",
       "    </tr>\n",
       "    <tr>\n",
       "      <th>6</th>\n",
       "      <td>0.741645</td>\n",
       "    </tr>\n",
       "    <tr>\n",
       "      <th>7</th>\n",
       "      <td>0.352516</td>\n",
       "    </tr>\n",
       "    <tr>\n",
       "      <th>8</th>\n",
       "      <td>0.752619</td>\n",
       "    </tr>\n",
       "    <tr>\n",
       "      <th>9</th>\n",
       "      <td>0.172731</td>\n",
       "    </tr>\n",
       "    <tr>\n",
       "      <th>10</th>\n",
       "      <td>0.249163</td>\n",
       "    </tr>\n",
       "    <tr>\n",
       "      <th>11</th>\n",
       "      <td>0.426516</td>\n",
       "    </tr>\n",
       "    <tr>\n",
       "      <th>12</th>\n",
       "      <td>1.119891</td>\n",
       "    </tr>\n",
       "    <tr>\n",
       "      <th>13</th>\n",
       "      <td>0.348756</td>\n",
       "    </tr>\n",
       "    <tr>\n",
       "      <th>14</th>\n",
       "      <td>1.076417</td>\n",
       "    </tr>\n",
       "    <tr>\n",
       "      <th>15</th>\n",
       "      <td>0.970279</td>\n",
       "    </tr>\n",
       "    <tr>\n",
       "      <th>16</th>\n",
       "      <td>0.281282</td>\n",
       "    </tr>\n",
       "    <tr>\n",
       "      <th>17</th>\n",
       "      <td>0.236619</td>\n",
       "    </tr>\n",
       "    <tr>\n",
       "      <th>18</th>\n",
       "      <td>0.659140</td>\n",
       "    </tr>\n",
       "    <tr>\n",
       "      <th>19</th>\n",
       "      <td>0.741645</td>\n",
       "    </tr>\n",
       "    <tr>\n",
       "      <th>20</th>\n",
       "      <td>0.521379</td>\n",
       "    </tr>\n",
       "    <tr>\n",
       "      <th>21</th>\n",
       "      <td>0.389325</td>\n",
       "    </tr>\n",
       "    <tr>\n",
       "      <th>22</th>\n",
       "      <td>1.054969</td>\n",
       "    </tr>\n",
       "    <tr>\n",
       "      <th>23</th>\n",
       "      <td>0.517748</td>\n",
       "    </tr>\n",
       "    <tr>\n",
       "      <th>24</th>\n",
       "      <td>1.076017</td>\n",
       "    </tr>\n",
       "    <tr>\n",
       "      <th>25</th>\n",
       "      <td>0.290636</td>\n",
       "    </tr>\n",
       "    <tr>\n",
       "      <th>26</th>\n",
       "      <td>1.121930</td>\n",
       "    </tr>\n",
       "    <tr>\n",
       "      <th>27</th>\n",
       "      <td>0.236619</td>\n",
       "    </tr>\n",
       "    <tr>\n",
       "      <th>28</th>\n",
       "      <td>0.481613</td>\n",
       "    </tr>\n",
       "    <tr>\n",
       "      <th>29</th>\n",
       "      <td>0.238433</td>\n",
       "    </tr>\n",
       "    <tr>\n",
       "      <th>...</th>\n",
       "      <td>...</td>\n",
       "    </tr>\n",
       "    <tr>\n",
       "      <th>388</th>\n",
       "      <td>0.260137</td>\n",
       "    </tr>\n",
       "    <tr>\n",
       "      <th>389</th>\n",
       "      <td>0.221503</td>\n",
       "    </tr>\n",
       "    <tr>\n",
       "      <th>390</th>\n",
       "      <td>0.541713</td>\n",
       "    </tr>\n",
       "    <tr>\n",
       "      <th>391</th>\n",
       "      <td>1.089485</td>\n",
       "    </tr>\n",
       "    <tr>\n",
       "      <th>392</th>\n",
       "      <td>0.482950</td>\n",
       "    </tr>\n",
       "    <tr>\n",
       "      <th>393</th>\n",
       "      <td>0.260619</td>\n",
       "    </tr>\n",
       "    <tr>\n",
       "      <th>394</th>\n",
       "      <td>0.101703</td>\n",
       "    </tr>\n",
       "    <tr>\n",
       "      <th>395</th>\n",
       "      <td>1.098203</td>\n",
       "    </tr>\n",
       "    <tr>\n",
       "      <th>396</th>\n",
       "      <td>0.236619</td>\n",
       "    </tr>\n",
       "    <tr>\n",
       "      <th>397</th>\n",
       "      <td>1.104966</td>\n",
       "    </tr>\n",
       "    <tr>\n",
       "      <th>398</th>\n",
       "      <td>0.260137</td>\n",
       "    </tr>\n",
       "    <tr>\n",
       "      <th>399</th>\n",
       "      <td>0.249163</td>\n",
       "    </tr>\n",
       "    <tr>\n",
       "      <th>400</th>\n",
       "      <td>1.098054</td>\n",
       "    </tr>\n",
       "    <tr>\n",
       "      <th>401</th>\n",
       "      <td>0.313102</td>\n",
       "    </tr>\n",
       "    <tr>\n",
       "      <th>402</th>\n",
       "      <td>1.121930</td>\n",
       "    </tr>\n",
       "    <tr>\n",
       "      <th>403</th>\n",
       "      <td>0.619979</td>\n",
       "    </tr>\n",
       "    <tr>\n",
       "      <th>404</th>\n",
       "      <td>0.481613</td>\n",
       "    </tr>\n",
       "    <tr>\n",
       "      <th>405</th>\n",
       "      <td>0.301963</td>\n",
       "    </tr>\n",
       "    <tr>\n",
       "      <th>406</th>\n",
       "      <td>0.287006</td>\n",
       "    </tr>\n",
       "    <tr>\n",
       "      <th>407</th>\n",
       "      <td>0.555925</td>\n",
       "    </tr>\n",
       "    <tr>\n",
       "      <th>408</th>\n",
       "      <td>0.776137</td>\n",
       "    </tr>\n",
       "    <tr>\n",
       "      <th>409</th>\n",
       "      <td>1.012006</td>\n",
       "    </tr>\n",
       "    <tr>\n",
       "      <th>410</th>\n",
       "      <td>0.776137</td>\n",
       "    </tr>\n",
       "    <tr>\n",
       "      <th>411</th>\n",
       "      <td>1.113518</td>\n",
       "    </tr>\n",
       "    <tr>\n",
       "      <th>412</th>\n",
       "      <td>0.733049</td>\n",
       "    </tr>\n",
       "    <tr>\n",
       "      <th>413</th>\n",
       "      <td>0.438971</td>\n",
       "    </tr>\n",
       "    <tr>\n",
       "      <th>414</th>\n",
       "      <td>1.108696</td>\n",
       "    </tr>\n",
       "    <tr>\n",
       "      <th>415</th>\n",
       "      <td>0.210232</td>\n",
       "    </tr>\n",
       "    <tr>\n",
       "      <th>416</th>\n",
       "      <td>0.278375</td>\n",
       "    </tr>\n",
       "    <tr>\n",
       "      <th>417</th>\n",
       "      <td>0.307942</td>\n",
       "    </tr>\n",
       "  </tbody>\n",
       "</table>\n",
       "<p>418 rows × 1 columns</p>\n",
       "</div>"
      ],
      "text/plain": [
       "            0\n",
       "0    0.249163\n",
       "1    0.745526\n",
       "2    0.311686\n",
       "3    0.268716\n",
       "4    0.674302\n",
       "5    0.444726\n",
       "6    0.741645\n",
       "7    0.352516\n",
       "8    0.752619\n",
       "9    0.172731\n",
       "10   0.249163\n",
       "11   0.426516\n",
       "12   1.119891\n",
       "13   0.348756\n",
       "14   1.076417\n",
       "15   0.970279\n",
       "16   0.281282\n",
       "17   0.236619\n",
       "18   0.659140\n",
       "19   0.741645\n",
       "20   0.521379\n",
       "21   0.389325\n",
       "22   1.054969\n",
       "23   0.517748\n",
       "24   1.076017\n",
       "25   0.290636\n",
       "26   1.121930\n",
       "27   0.236619\n",
       "28   0.481613\n",
       "29   0.238433\n",
       "..        ...\n",
       "388  0.260137\n",
       "389  0.221503\n",
       "390  0.541713\n",
       "391  1.089485\n",
       "392  0.482950\n",
       "393  0.260619\n",
       "394  0.101703\n",
       "395  1.098203\n",
       "396  0.236619\n",
       "397  1.104966\n",
       "398  0.260137\n",
       "399  0.249163\n",
       "400  1.098054\n",
       "401  0.313102\n",
       "402  1.121930\n",
       "403  0.619979\n",
       "404  0.481613\n",
       "405  0.301963\n",
       "406  0.287006\n",
       "407  0.555925\n",
       "408  0.776137\n",
       "409  1.012006\n",
       "410  0.776137\n",
       "411  1.113518\n",
       "412  0.733049\n",
       "413  0.438971\n",
       "414  1.108696\n",
       "415  0.210232\n",
       "416  0.278375\n",
       "417  0.307942\n",
       "\n",
       "[418 rows x 1 columns]"
      ]
     },
     "execution_count": 46,
     "metadata": {},
     "output_type": "execute_result"
    }
   ],
   "source": [
    "pd.DataFrame(y_test_pred)"
   ]
  },
  {
   "cell_type": "code",
   "execution_count": 48,
   "metadata": {
    "ExecuteTime": {
     "end_time": "2018-10-26T04:03:51.538056Z",
     "start_time": "2018-10-26T04:03:51.532074Z"
    },
    "scrolled": true
   },
   "outputs": [],
   "source": [
    "output = pd.concat([test['PassengerId'],pd.DataFrame(y_test_pred)],axis=1)"
   ]
  },
  {
   "cell_type": "code",
   "execution_count": 49,
   "metadata": {
    "ExecuteTime": {
     "end_time": "2018-10-26T04:03:57.408875Z",
     "start_time": "2018-10-26T04:03:57.405869Z"
    },
    "scrolled": true
   },
   "outputs": [],
   "source": [
    "output = output.rename(columns={0:'Survived_tmep'})"
   ]
  },
  {
   "cell_type": "code",
   "execution_count": 50,
   "metadata": {
    "ExecuteTime": {
     "end_time": "2018-10-26T04:04:15.699235Z",
     "start_time": "2018-10-26T04:04:15.686275Z"
    }
   },
   "outputs": [],
   "source": [
    "output.loc[output['Survived_tmep'] >= 0.5, 'Survived'] = 1\n",
    "output.loc[output['Survived_tmep'] < 0.5, 'Survived'] = 0"
   ]
  },
  {
   "cell_type": "code",
   "execution_count": 51,
   "metadata": {
    "ExecuteTime": {
     "end_time": "2018-10-26T04:04:18.556788Z",
     "start_time": "2018-10-26T04:04:18.549802Z"
    }
   },
   "outputs": [],
   "source": [
    "output = output[['PassengerId','Survived']].astype(int)"
   ]
  },
  {
   "cell_type": "code",
   "execution_count": 53,
   "metadata": {
    "ExecuteTime": {
     "end_time": "2018-10-26T04:04:37.492715Z",
     "start_time": "2018-10-26T04:04:37.483741Z"
    }
   },
   "outputs": [],
   "source": [
    "output.to_csv('gender_submission_r2.csv',index=False)"
   ]
  },
  {
   "cell_type": "code",
   "execution_count": null,
   "metadata": {},
   "outputs": [],
   "source": []
  },
  {
   "cell_type": "markdown",
   "metadata": {},
   "source": [
    "# 分析2"
   ]
  },
  {
   "cell_type": "markdown",
   "metadata": {},
   "source": [
    "特徴量を増やすためEmbarkedを数値化\n",
    "Embarked = S:1,Q:2,C:3"
   ]
  },
  {
   "cell_type": "markdown",
   "metadata": {},
   "source": [
    "nullは最頻値で穴埋め"
   ]
  },
  {
   "cell_type": "code",
   "execution_count": 55,
   "metadata": {
    "ExecuteTime": {
     "end_time": "2018-10-26T08:46:48.345610Z",
     "start_time": "2018-10-26T08:46:48.341619Z"
    }
   },
   "outputs": [],
   "source": [
    "import statistics\n",
    "import math"
   ]
  },
  {
   "cell_type": "code",
   "execution_count": 56,
   "metadata": {
    "ExecuteTime": {
     "end_time": "2018-10-26T08:46:48.769700Z",
     "start_time": "2018-10-26T08:46:48.762721Z"
    }
   },
   "outputs": [],
   "source": [
    "train['Embarked'] = train['Embarked'].fillna(statistics.mode(train['Embarked']))\n",
    "test['Embarked'] = test['Embarked'].fillna(statistics.mode(test['Embarked']))"
   ]
  },
  {
   "cell_type": "code",
   "execution_count": 57,
   "metadata": {
    "ExecuteTime": {
     "end_time": "2018-10-26T08:46:49.050126Z",
     "start_time": "2018-10-26T08:46:49.032207Z"
    }
   },
   "outputs": [],
   "source": [
    "train.loc[train['Embarked']=='S','Embarked_n'] = 0\n",
    "train.loc[train['Embarked']=='Q','Embarked_n'] = 1\n",
    "train.loc[train['Embarked']=='C','Embarked_n'] = 2"
   ]
  },
  {
   "cell_type": "code",
   "execution_count": 58,
   "metadata": {
    "ExecuteTime": {
     "end_time": "2018-10-26T08:46:49.404899Z",
     "start_time": "2018-10-26T08:46:49.386916Z"
    }
   },
   "outputs": [],
   "source": [
    "test.loc[test['Embarked']=='S','Embarked_n'] = 0\n",
    "test.loc[test['Embarked']=='Q','Embarked_n'] = 1\n",
    "test.loc[test['Embarked']=='C','Embarked_n'] = 2"
   ]
  },
  {
   "cell_type": "code",
   "execution_count": 59,
   "metadata": {
    "ExecuteTime": {
     "end_time": "2018-10-26T08:46:49.917156Z",
     "start_time": "2018-10-26T08:46:49.908148Z"
    }
   },
   "outputs": [
    {
     "data": {
      "text/plain": [
       "PassengerId        0\n",
       "Survived           0\n",
       "Pclass             0\n",
       "Name               0\n",
       "Sex                0\n",
       "Age                0\n",
       "SibSp              0\n",
       "Parch              0\n",
       "Ticket             0\n",
       "Fare               0\n",
       "Cabin            687\n",
       "Embarked           0\n",
       "Name_type          0\n",
       "Name_type_num      0\n",
       "employee_frag      0\n",
       "sex                0\n",
       "age_type           0\n",
       "Embarked_n         0\n",
       "dtype: int64"
      ]
     },
     "execution_count": 59,
     "metadata": {},
     "output_type": "execute_result"
    }
   ],
   "source": [
    "train.isnull().sum()"
   ]
  },
  {
   "cell_type": "markdown",
   "metadata": {},
   "source": [
    "家族の総人数も作成"
   ]
  },
  {
   "cell_type": "code",
   "execution_count": 60,
   "metadata": {
    "ExecuteTime": {
     "end_time": "2018-10-26T08:46:52.081267Z",
     "start_time": "2018-10-26T08:46:52.058327Z"
    }
   },
   "outputs": [],
   "source": [
    "train['family_full'] = train['SibSp'] + train['Parch']\n",
    "test['family_full'] = test['SibSp'] + test['Parch']"
   ]
  },
  {
   "cell_type": "code",
   "execution_count": 79,
   "metadata": {
    "ExecuteTime": {
     "end_time": "2018-10-26T08:52:48.918281Z",
     "start_time": "2018-10-26T08:52:48.894345Z"
    }
   },
   "outputs": [
    {
     "name": "stderr",
     "output_type": "stream",
     "text": [
      "C:\\Users\\ryota_hara\\Anaconda3\\lib\\site-packages\\ipykernel_launcher.py:3: FutureWarning: Method .as_matrix will be removed in a future version. Use .values instead.\n",
      "  This is separate from the ipykernel package so we can avoid doing imports until\n",
      "C:\\Users\\ryota_hara\\Anaconda3\\lib\\site-packages\\ipykernel_launcher.py:6: FutureWarning: Method .as_matrix will be removed in a future version. Use .values instead.\n",
      "  \n"
     ]
    }
   ],
   "source": [
    "train_except_y = train.drop([\"Name_type\",\"PassengerId\",\"Sex\",\"Embarked\",\"Ticket\",\"Name\",\"Cabin\",\"Survived\"], axis=1)\n",
    "test_except_y = test.drop([\"Name_type\",\"PassengerId\",\"Sex\",\"Embarked\",\"Ticket\",\"Name\",\"Cabin\"], axis=1)\n",
    "X = df_except_y.as_matrix()\n",
    "\n",
    "# 目的変数に \"y \" を利用\n",
    "y = train['Survived'].as_matrix()\n",
    "\n",
    "params = {\"learning_rate\":[0.1,0.3,0.5],\n",
    "        \"max_depth\": [2,3,5,10],\n",
    "         \"subsample\":[0.5,0.8,0.9,1],\n",
    "         \"colsample_bytree\": [0.5,1.0],\n",
    "         }\n",
    "\n",
    "# モデルにインスタンス生成\n",
    "mod = xgb.XGBRegressor()\n",
    "# ハイパーパラメータ探索\n",
    "cv = GridSearchCV(mod, params, cv = 10, scoring= 'roc_auc', n_jobs =-1)"
   ]
  },
  {
   "cell_type": "code",
   "execution_count": 141,
   "metadata": {
    "ExecuteTime": {
     "end_time": "2018-10-26T06:11:48.396217Z",
     "start_time": "2018-10-26T06:11:48.389239Z"
    }
   },
   "outputs": [
    {
     "data": {
      "text/plain": [
       "GridSearchCV(cv=10, error_score='raise',\n",
       "       estimator=XGBRegressor(base_score=0.5, booster='gbtree', colsample_bylevel=1,\n",
       "       colsample_bytree=1, gamma=0, learning_rate=0.1, max_delta_step=0,\n",
       "       max_depth=3, min_child_weight=1, missing=None, n_estimators=100,\n",
       "       n_jobs=1, nthread=None, objective='reg:linear', random_state=0,\n",
       "       reg_alpha=0, reg_lambda=1, scale_pos_weight=1, seed=None,\n",
       "       silent=True, subsample=1),\n",
       "       fit_params={}, iid=True, n_jobs=-1,\n",
       "       param_grid={'learning_rate': [0.1, 0.3, 0.5], 'max_depth': [2, 3, 5, 10], 'subsample': [0.5, 0.8, 0.9, 1], 'colsample_bytree': [0.5, 1.0]},\n",
       "       pre_dispatch='2*n_jobs', refit=True, scoring='roc_auc', verbose=0)"
      ]
     },
     "execution_count": 141,
     "metadata": {},
     "output_type": "execute_result"
    }
   ],
   "source": [
    "cv"
   ]
  },
  {
   "cell_type": "code",
   "execution_count": 73,
   "metadata": {
    "ExecuteTime": {
     "end_time": "2018-10-26T08:49:42.879494Z",
     "start_time": "2018-10-26T08:49:42.779759Z"
    }
   },
   "outputs": [],
   "source": [
    "from sklearn.ensemble import GradientBoostingClassifier\n",
    "features  = train.drop([\"Name_type\",\"PassengerId\",\"Sex\",\"Embarked\",\"Ticket\",\"Name\",\"Cabin\",\"Survived\"], axis=1)\n",
    "target = train[\"Survived\"].values\n",
    "forest = GradientBoostingClassifier(n_estimators=100, random_state=0)\n",
    "forest = forest.fit(features, target)"
   ]
  },
  {
   "cell_type": "code",
   "execution_count": 74,
   "metadata": {
    "ExecuteTime": {
     "end_time": "2018-10-26T08:49:44.507072Z",
     "start_time": "2018-10-26T08:49:44.501088Z"
    },
    "scrolled": true
   },
   "outputs": [
    {
     "data": {
      "text/plain": [
       "GradientBoostingClassifier(criterion='friedman_mse', init=None,\n",
       "              learning_rate=0.1, loss='deviance', max_depth=3,\n",
       "              max_features=None, max_leaf_nodes=None,\n",
       "              min_impurity_decrease=0.0, min_impurity_split=None,\n",
       "              min_samples_leaf=1, min_samples_split=2,\n",
       "              min_weight_fraction_leaf=0.0, n_estimators=100,\n",
       "              presort='auto', random_state=0, subsample=1.0, verbose=0,\n",
       "              warm_start=False)"
      ]
     },
     "execution_count": 74,
     "metadata": {},
     "output_type": "execute_result"
    }
   ],
   "source": [
    "forest"
   ]
  },
  {
   "cell_type": "code",
   "execution_count": 130,
   "metadata": {
    "ExecuteTime": {
     "end_time": "2018-10-26T06:09:14.193845Z",
     "start_time": "2018-10-26T06:09:14.187858Z"
    },
    "scrolled": true
   },
   "outputs": [],
   "source": [
    "y_test_pred = forest.predict(test_except_y)"
   ]
  },
  {
   "cell_type": "code",
   "execution_count": 131,
   "metadata": {
    "ExecuteTime": {
     "end_time": "2018-10-26T06:09:15.960859Z",
     "start_time": "2018-10-26T06:09:15.949890Z"
    }
   },
   "outputs": [
    {
     "data": {
      "text/plain": [
       "PassengerId      418\n",
       "Pclass           418\n",
       "Name             418\n",
       "Sex              418\n",
       "Age              418\n",
       "SibSp            418\n",
       "Parch            418\n",
       "Ticket           418\n",
       "Fare             418\n",
       "Cabin             91\n",
       "Embarked         418\n",
       "employee_frag    418\n",
       "sex              418\n",
       "age_type         418\n",
       "Embarked_n       418\n",
       "family_full      418\n",
       "dtype: int64"
      ]
     },
     "execution_count": 131,
     "metadata": {},
     "output_type": "execute_result"
    }
   ],
   "source": [
    "test.count()"
   ]
  },
  {
   "cell_type": "code",
   "execution_count": 132,
   "metadata": {
    "ExecuteTime": {
     "end_time": "2018-10-26T06:09:19.215334Z",
     "start_time": "2018-10-26T06:09:19.209316Z"
    }
   },
   "outputs": [
    {
     "data": {
      "text/plain": [
       "418"
      ]
     },
     "execution_count": 132,
     "metadata": {},
     "output_type": "execute_result"
    }
   ],
   "source": [
    "len(y_test_pred)"
   ]
  },
  {
   "cell_type": "code",
   "execution_count": 133,
   "metadata": {
    "ExecuteTime": {
     "end_time": "2018-10-26T06:09:20.720171Z",
     "start_time": "2018-10-26T06:09:20.704214Z"
    },
    "scrolled": true
   },
   "outputs": [
    {
     "data": {
      "text/html": [
       "<div>\n",
       "<style scoped>\n",
       "    .dataframe tbody tr th:only-of-type {\n",
       "        vertical-align: middle;\n",
       "    }\n",
       "\n",
       "    .dataframe tbody tr th {\n",
       "        vertical-align: top;\n",
       "    }\n",
       "\n",
       "    .dataframe thead th {\n",
       "        text-align: right;\n",
       "    }\n",
       "</style>\n",
       "<table border=\"1\" class=\"dataframe\">\n",
       "  <thead>\n",
       "    <tr style=\"text-align: right;\">\n",
       "      <th></th>\n",
       "      <th>0</th>\n",
       "    </tr>\n",
       "  </thead>\n",
       "  <tbody>\n",
       "    <tr>\n",
       "      <th>0</th>\n",
       "      <td>0</td>\n",
       "    </tr>\n",
       "    <tr>\n",
       "      <th>1</th>\n",
       "      <td>0</td>\n",
       "    </tr>\n",
       "    <tr>\n",
       "      <th>2</th>\n",
       "      <td>0</td>\n",
       "    </tr>\n",
       "    <tr>\n",
       "      <th>3</th>\n",
       "      <td>0</td>\n",
       "    </tr>\n",
       "    <tr>\n",
       "      <th>4</th>\n",
       "      <td>0</td>\n",
       "    </tr>\n",
       "    <tr>\n",
       "      <th>5</th>\n",
       "      <td>0</td>\n",
       "    </tr>\n",
       "    <tr>\n",
       "      <th>6</th>\n",
       "      <td>1</td>\n",
       "    </tr>\n",
       "    <tr>\n",
       "      <th>7</th>\n",
       "      <td>0</td>\n",
       "    </tr>\n",
       "    <tr>\n",
       "      <th>8</th>\n",
       "      <td>1</td>\n",
       "    </tr>\n",
       "    <tr>\n",
       "      <th>9</th>\n",
       "      <td>0</td>\n",
       "    </tr>\n",
       "    <tr>\n",
       "      <th>10</th>\n",
       "      <td>0</td>\n",
       "    </tr>\n",
       "    <tr>\n",
       "      <th>11</th>\n",
       "      <td>0</td>\n",
       "    </tr>\n",
       "    <tr>\n",
       "      <th>12</th>\n",
       "      <td>1</td>\n",
       "    </tr>\n",
       "    <tr>\n",
       "      <th>13</th>\n",
       "      <td>0</td>\n",
       "    </tr>\n",
       "    <tr>\n",
       "      <th>14</th>\n",
       "      <td>1</td>\n",
       "    </tr>\n",
       "    <tr>\n",
       "      <th>15</th>\n",
       "      <td>1</td>\n",
       "    </tr>\n",
       "    <tr>\n",
       "      <th>16</th>\n",
       "      <td>0</td>\n",
       "    </tr>\n",
       "    <tr>\n",
       "      <th>17</th>\n",
       "      <td>0</td>\n",
       "    </tr>\n",
       "    <tr>\n",
       "      <th>18</th>\n",
       "      <td>0</td>\n",
       "    </tr>\n",
       "    <tr>\n",
       "      <th>19</th>\n",
       "      <td>1</td>\n",
       "    </tr>\n",
       "    <tr>\n",
       "      <th>20</th>\n",
       "      <td>0</td>\n",
       "    </tr>\n",
       "    <tr>\n",
       "      <th>21</th>\n",
       "      <td>1</td>\n",
       "    </tr>\n",
       "    <tr>\n",
       "      <th>22</th>\n",
       "      <td>1</td>\n",
       "    </tr>\n",
       "    <tr>\n",
       "      <th>23</th>\n",
       "      <td>0</td>\n",
       "    </tr>\n",
       "    <tr>\n",
       "      <th>24</th>\n",
       "      <td>1</td>\n",
       "    </tr>\n",
       "    <tr>\n",
       "      <th>25</th>\n",
       "      <td>0</td>\n",
       "    </tr>\n",
       "    <tr>\n",
       "      <th>26</th>\n",
       "      <td>1</td>\n",
       "    </tr>\n",
       "    <tr>\n",
       "      <th>27</th>\n",
       "      <td>0</td>\n",
       "    </tr>\n",
       "    <tr>\n",
       "      <th>28</th>\n",
       "      <td>0</td>\n",
       "    </tr>\n",
       "    <tr>\n",
       "      <th>29</th>\n",
       "      <td>0</td>\n",
       "    </tr>\n",
       "    <tr>\n",
       "      <th>...</th>\n",
       "      <td>...</td>\n",
       "    </tr>\n",
       "    <tr>\n",
       "      <th>388</th>\n",
       "      <td>0</td>\n",
       "    </tr>\n",
       "    <tr>\n",
       "      <th>389</th>\n",
       "      <td>0</td>\n",
       "    </tr>\n",
       "    <tr>\n",
       "      <th>390</th>\n",
       "      <td>0</td>\n",
       "    </tr>\n",
       "    <tr>\n",
       "      <th>391</th>\n",
       "      <td>1</td>\n",
       "    </tr>\n",
       "    <tr>\n",
       "      <th>392</th>\n",
       "      <td>0</td>\n",
       "    </tr>\n",
       "    <tr>\n",
       "      <th>393</th>\n",
       "      <td>0</td>\n",
       "    </tr>\n",
       "    <tr>\n",
       "      <th>394</th>\n",
       "      <td>0</td>\n",
       "    </tr>\n",
       "    <tr>\n",
       "      <th>395</th>\n",
       "      <td>1</td>\n",
       "    </tr>\n",
       "    <tr>\n",
       "      <th>396</th>\n",
       "      <td>0</td>\n",
       "    </tr>\n",
       "    <tr>\n",
       "      <th>397</th>\n",
       "      <td>1</td>\n",
       "    </tr>\n",
       "    <tr>\n",
       "      <th>398</th>\n",
       "      <td>0</td>\n",
       "    </tr>\n",
       "    <tr>\n",
       "      <th>399</th>\n",
       "      <td>0</td>\n",
       "    </tr>\n",
       "    <tr>\n",
       "      <th>400</th>\n",
       "      <td>1</td>\n",
       "    </tr>\n",
       "    <tr>\n",
       "      <th>401</th>\n",
       "      <td>0</td>\n",
       "    </tr>\n",
       "    <tr>\n",
       "      <th>402</th>\n",
       "      <td>1</td>\n",
       "    </tr>\n",
       "    <tr>\n",
       "      <th>403</th>\n",
       "      <td>0</td>\n",
       "    </tr>\n",
       "    <tr>\n",
       "      <th>404</th>\n",
       "      <td>0</td>\n",
       "    </tr>\n",
       "    <tr>\n",
       "      <th>405</th>\n",
       "      <td>0</td>\n",
       "    </tr>\n",
       "    <tr>\n",
       "      <th>406</th>\n",
       "      <td>0</td>\n",
       "    </tr>\n",
       "    <tr>\n",
       "      <th>407</th>\n",
       "      <td>0</td>\n",
       "    </tr>\n",
       "    <tr>\n",
       "      <th>408</th>\n",
       "      <td>1</td>\n",
       "    </tr>\n",
       "    <tr>\n",
       "      <th>409</th>\n",
       "      <td>1</td>\n",
       "    </tr>\n",
       "    <tr>\n",
       "      <th>410</th>\n",
       "      <td>1</td>\n",
       "    </tr>\n",
       "    <tr>\n",
       "      <th>411</th>\n",
       "      <td>1</td>\n",
       "    </tr>\n",
       "    <tr>\n",
       "      <th>412</th>\n",
       "      <td>1</td>\n",
       "    </tr>\n",
       "    <tr>\n",
       "      <th>413</th>\n",
       "      <td>0</td>\n",
       "    </tr>\n",
       "    <tr>\n",
       "      <th>414</th>\n",
       "      <td>1</td>\n",
       "    </tr>\n",
       "    <tr>\n",
       "      <th>415</th>\n",
       "      <td>0</td>\n",
       "    </tr>\n",
       "    <tr>\n",
       "      <th>416</th>\n",
       "      <td>0</td>\n",
       "    </tr>\n",
       "    <tr>\n",
       "      <th>417</th>\n",
       "      <td>0</td>\n",
       "    </tr>\n",
       "  </tbody>\n",
       "</table>\n",
       "<p>418 rows × 1 columns</p>\n",
       "</div>"
      ],
      "text/plain": [
       "     0\n",
       "0    0\n",
       "1    0\n",
       "2    0\n",
       "3    0\n",
       "4    0\n",
       "5    0\n",
       "6    1\n",
       "7    0\n",
       "8    1\n",
       "9    0\n",
       "10   0\n",
       "11   0\n",
       "12   1\n",
       "13   0\n",
       "14   1\n",
       "15   1\n",
       "16   0\n",
       "17   0\n",
       "18   0\n",
       "19   1\n",
       "20   0\n",
       "21   1\n",
       "22   1\n",
       "23   0\n",
       "24   1\n",
       "25   0\n",
       "26   1\n",
       "27   0\n",
       "28   0\n",
       "29   0\n",
       "..  ..\n",
       "388  0\n",
       "389  0\n",
       "390  0\n",
       "391  1\n",
       "392  0\n",
       "393  0\n",
       "394  0\n",
       "395  1\n",
       "396  0\n",
       "397  1\n",
       "398  0\n",
       "399  0\n",
       "400  1\n",
       "401  0\n",
       "402  1\n",
       "403  0\n",
       "404  0\n",
       "405  0\n",
       "406  0\n",
       "407  0\n",
       "408  1\n",
       "409  1\n",
       "410  1\n",
       "411  1\n",
       "412  1\n",
       "413  0\n",
       "414  1\n",
       "415  0\n",
       "416  0\n",
       "417  0\n",
       "\n",
       "[418 rows x 1 columns]"
      ]
     },
     "execution_count": 133,
     "metadata": {},
     "output_type": "execute_result"
    }
   ],
   "source": [
    "pd.DataFrame(y_test_pred)"
   ]
  },
  {
   "cell_type": "code",
   "execution_count": 134,
   "metadata": {
    "ExecuteTime": {
     "end_time": "2018-10-26T06:09:22.792050Z",
     "start_time": "2018-10-26T06:09:22.787095Z"
    },
    "scrolled": true
   },
   "outputs": [],
   "source": [
    "output = pd.concat([test['PassengerId'],pd.DataFrame(y_test_pred)],axis=1)"
   ]
  },
  {
   "cell_type": "code",
   "execution_count": 135,
   "metadata": {
    "ExecuteTime": {
     "end_time": "2018-10-26T06:09:23.254620Z",
     "start_time": "2018-10-26T06:09:23.248635Z"
    },
    "scrolled": true
   },
   "outputs": [],
   "source": [
    "output = output.rename(columns={0:'Survived_tmep'})"
   ]
  },
  {
   "cell_type": "code",
   "execution_count": 136,
   "metadata": {
    "ExecuteTime": {
     "end_time": "2018-10-26T06:09:23.985999Z",
     "start_time": "2018-10-26T06:09:23.973034Z"
    }
   },
   "outputs": [],
   "source": [
    "output.loc[output['Survived_tmep'] >= 0.5, 'Survived'] = 1\n",
    "output.loc[output['Survived_tmep'] < 0.5, 'Survived'] = 0"
   ]
  },
  {
   "cell_type": "code",
   "execution_count": 137,
   "metadata": {
    "ExecuteTime": {
     "end_time": "2018-10-26T06:09:24.745708Z",
     "start_time": "2018-10-26T06:09:24.736710Z"
    }
   },
   "outputs": [
    {
     "data": {
      "text/plain": [
       "PassengerId      0\n",
       "Survived_tmep    0\n",
       "Survived         0\n",
       "dtype: int64"
      ]
     },
     "execution_count": 137,
     "metadata": {},
     "output_type": "execute_result"
    }
   ],
   "source": [
    "output.isnull().sum()"
   ]
  },
  {
   "cell_type": "code",
   "execution_count": 138,
   "metadata": {
    "ExecuteTime": {
     "end_time": "2018-10-26T06:09:27.167565Z",
     "start_time": "2018-10-26T06:09:27.162578Z"
    },
    "scrolled": true
   },
   "outputs": [],
   "source": [
    "output = output[['PassengerId','Survived']].astype(int)"
   ]
  },
  {
   "cell_type": "code",
   "execution_count": 139,
   "metadata": {
    "ExecuteTime": {
     "end_time": "2018-10-26T06:09:30.449794Z",
     "start_time": "2018-10-26T06:09:30.441803Z"
    }
   },
   "outputs": [],
   "source": [
    "output.to_csv('gender_submission_r3.csv',index=False)"
   ]
  },
  {
   "cell_type": "code",
   "execution_count": null,
   "metadata": {},
   "outputs": [],
   "source": []
  },
  {
   "cell_type": "markdown",
   "metadata": {},
   "source": [
    "# グリッドサーチ"
   ]
  },
  {
   "cell_type": "code",
   "execution_count": 76,
   "metadata": {
    "ExecuteTime": {
     "end_time": "2018-10-26T08:49:58.764939Z",
     "start_time": "2018-10-26T08:49:58.760982Z"
    }
   },
   "outputs": [],
   "source": [
    "from sklearn import ensemble\n",
    "from sklearn import grid_search"
   ]
  },
  {
   "cell_type": "code",
   "execution_count": 87,
   "metadata": {
    "ExecuteTime": {
     "end_time": "2018-10-26T08:58:47.395053Z",
     "start_time": "2018-10-26T08:55:14.316449Z"
    }
   },
   "outputs": [
    {
     "data": {
      "text/plain": [
       "GridSearchCV(cv=5, error_score='raise',\n",
       "       estimator=RandomForestClassifier(bootstrap=True, class_weight=None, criterion='gini',\n",
       "            max_depth=None, max_features='auto', max_leaf_nodes=None,\n",
       "            min_impurity_decrease=0.0, min_impurity_split=None,\n",
       "            min_samples_leaf=1, min_samples_split=2,\n",
       "            min_weight_fraction_leaf=0.0, n_estimators=10, n_jobs=1,\n",
       "            oob_score=False, random_state=None, verbose=0,\n",
       "            warm_start=False),\n",
       "       fit_params={}, iid=True, n_jobs=1,\n",
       "       param_grid={'n_estimators': [5000], 'random_state': [0], 'n_jobs': [4], 'min_samples_split': [10, 11, 12, 13, 14, 15], 'max_depth': [5]},\n",
       "       pre_dispatch='2*n_jobs', refit=True, scoring=None, verbose=0)"
      ]
     },
     "execution_count": 87,
     "metadata": {},
     "output_type": "execute_result"
    }
   ],
   "source": [
    "parameters = {\n",
    "    'n_estimators' : [5000],\n",
    "    'random_state' : [0],\n",
    "    'n_jobs'       : [4],\n",
    "    'min_samples_split':[10,11,12,13,14,15],\n",
    "    'max_depth'   : [5]\n",
    "    \n",
    "}\n",
    "\n",
    "ranfore_clf_grid = grid_search.GridSearchCV(ensemble.RandomForestClassifier() ,parameters, cv=5)\n",
    "ranfore_clf_grid.fit(features, target)"
   ]
  },
  {
   "cell_type": "code",
   "execution_count": 80,
   "metadata": {
    "ExecuteTime": {
     "end_time": "2018-10-26T08:53:57.646361Z",
     "start_time": "2018-10-26T08:53:56.830516Z"
    }
   },
   "outputs": [],
   "source": [
    "y_test_pred = ranfore_clf_grid.predict(test_except_y)"
   ]
  },
  {
   "cell_type": "code",
   "execution_count": 81,
   "metadata": {
    "ExecuteTime": {
     "end_time": "2018-10-26T08:53:59.536835Z",
     "start_time": "2018-10-26T08:53:59.531847Z"
    },
    "scrolled": true
   },
   "outputs": [],
   "source": [
    "output = pd.concat([test['PassengerId'],pd.DataFrame(y_test_pred)],axis=1)"
   ]
  },
  {
   "cell_type": "code",
   "execution_count": 82,
   "metadata": {
    "ExecuteTime": {
     "end_time": "2018-10-26T08:54:00.153169Z",
     "start_time": "2018-10-26T08:54:00.147189Z"
    },
    "scrolled": true
   },
   "outputs": [],
   "source": [
    "output = output.rename(columns={0:'Survived_tmep'})"
   ]
  },
  {
   "cell_type": "code",
   "execution_count": 84,
   "metadata": {
    "ExecuteTime": {
     "end_time": "2018-10-26T08:54:02.010582Z",
     "start_time": "2018-10-26T08:54:02.001609Z"
    },
    "scrolled": true
   },
   "outputs": [
    {
     "data": {
      "text/plain": [
       "PassengerId      0\n",
       "Survived_tmep    0\n",
       "Survived         0\n",
       "dtype: int64"
      ]
     },
     "execution_count": 84,
     "metadata": {},
     "output_type": "execute_result"
    }
   ],
   "source": [
    "output.isnull().sum()"
   ]
  },
  {
   "cell_type": "code",
   "execution_count": 85,
   "metadata": {
    "ExecuteTime": {
     "end_time": "2018-10-26T08:54:05.208394Z",
     "start_time": "2018-10-26T08:54:05.202410Z"
    },
    "scrolled": true
   },
   "outputs": [],
   "source": [
    "output = output[['PassengerId','Survived']].astype(int)"
   ]
  },
  {
   "cell_type": "code",
   "execution_count": 86,
   "metadata": {
    "ExecuteTime": {
     "end_time": "2018-10-26T08:54:08.348172Z",
     "start_time": "2018-10-26T08:54:08.325235Z"
    }
   },
   "outputs": [],
   "source": [
    "output.to_csv('gender_submission_r6.csv',index=False)"
   ]
  },
  {
   "cell_type": "code",
   "execution_count": null,
   "metadata": {},
   "outputs": [],
   "source": []
  },
  {
   "cell_type": "code",
   "execution_count": null,
   "metadata": {},
   "outputs": [],
   "source": []
  },
  {
   "cell_type": "code",
   "execution_count": null,
   "metadata": {
    "ExecuteTime": {
     "start_time": "2018-10-26T08:55:55.803Z"
    }
   },
   "outputs": [],
   "source": [
    "output_1 = output.copy()"
   ]
  }
 ],
 "metadata": {
  "kernelspec": {
   "display_name": "Python 3",
   "language": "python",
   "name": "python3"
  },
  "language_info": {
   "codemirror_mode": {
    "name": "ipython",
    "version": 3
   },
   "file_extension": ".py",
   "mimetype": "text/x-python",
   "name": "python",
   "nbconvert_exporter": "python",
   "pygments_lexer": "ipython3",
   "version": "3.6.4"
  },
  "toc": {
   "base_numbering": 1,
   "nav_menu": {},
   "number_sections": true,
   "sideBar": true,
   "skip_h1_title": false,
   "title_cell": "Table of Contents",
   "title_sidebar": "Contents",
   "toc_cell": false,
   "toc_position": {},
   "toc_section_display": true,
   "toc_window_display": true
  }
 },
 "nbformat": 4,
 "nbformat_minor": 2
}
